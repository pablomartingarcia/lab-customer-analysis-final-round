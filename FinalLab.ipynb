{
 "cells": [
  {
   "cell_type": "code",
   "execution_count": 2,
   "id": "252ccbd7",
   "metadata": {},
   "outputs": [
    {
     "name": "stdout",
     "output_type": "stream",
     "text": [
      "R2_score: 0.2\n",
      "MSE: 0.07516147406332888\n",
      "RMSE: 0.274155930199091\n",
      "MAE: 0.22910255999765194\n"
     ]
    }
   ],
   "source": [
    "import numpy as np\n",
    "import pandas as pd\n",
    "import seaborn as sns\n",
    "from scipy import stats\n",
    "import matplotlib.pyplot as plt\n",
    "from sklearn.linear_model import LinearRegression\n",
    "from sklearn.model_selection import train_test_split\n",
    "from sklearn.preprocessing import OneHotEncoder, Normalizer, StandardScaler, MinMaxScaler\n",
    "from sklearn.metrics import mean_squared_error, r2_score, mean_absolute_error\n",
    "\n",
    "import warnings\n",
    "warnings.filterwarnings('ignore')\n",
    "\n",
    "data = pd.read_csv('/Users/suso/BootcampDA/Unit1/Labs/lab-customer-analysis-final-round/files_for_lab/csv_files/marketing_customer_analysis.csv')\n",
    "\n",
    "data.columns = data.columns.str.lower().str.replace(\" \", \"_\")\n",
    "\n",
    "data['state'] = data['state'].fillna('California')\n",
    "data['response'] = data['response'].fillna('No')\n",
    "data['months_since_last_claim'] = data['months_since_last_claim'].fillna(data['months_since_last_claim'].mean())\n",
    "data['number_of_open_complaints'] = data['number_of_open_complaints'].fillna(data['number_of_open_complaints'].mean())\n",
    "data['vehicle_class'] = data['vehicle_class'].fillna('Four-Door Car')\n",
    "data['vehicle_size'] = data['vehicle_size'].fillna('Medsize')\n",
    "\n",
    "X = data.drop([\"customer\", \"income\"], axis=1) \n",
    "y = data[\"income\"]\n",
    "\n",
    "numerical_data = data.select_dtypes(\"number\")\n",
    "scaler = MinMaxScaler()\n",
    "numerical_data = scaler.fit_transform(numerical_data)\n",
    "\n",
    "categorical_data = data.select_dtypes(\"object\")\n",
    "from sklearn.preprocessing import LabelEncoder\n",
    "encoder = LabelEncoder()\n",
    "for column in categorical_data:\n",
    "    data[column] = encoder.fit_transform(data[column])\n",
    "\n",
    "df_numerical = pd.DataFrame(numerical_data, columns=['customer_lifetime_value', 'income', 'monthly_premium_auto', 'months_since_last_claim', 'months_since_policy_inception', 'number_of_open_complaints', 'number_of_policies', 'total_claim_amount']) \n",
    "df_categorical = pd.DataFrame(categorical_data, columns=['customer', 'state', 'response', 'coverage', 'education', 'effective_to_date', 'employmentstatus', 'gender', 'location_code', 'marital_status', 'policy_type', 'policy', 'renew_offer_type', 'sales_channel' ,'vehicle_class', 'vehicle_size'])\n",
    "df_concatenated = pd.concat([df_numerical, df_categorical], axis=1)\n",
    "\n",
    "X = df_concatenated.drop([\"customer\", \"income\"], axis=1) \n",
    "y = df_concatenated[\"income\"]\n",
    "X_train, X_test, y_train, y_test = train_test_split(X, y, test_size=0.3, random_state=42)\n",
    "\n",
    "X_train = X_train.select_dtypes(exclude=['object'])\n",
    "X_test = X_test.select_dtypes(exclude=['object'])\n",
    "model = LinearRegression()\n",
    "model.fit(X_train, y_train)\n",
    "y_pred = model.predict(X_test)\n",
    "\n",
    "mse = mean_squared_error(y_test, y_pred, squared=True)\n",
    "rmse = mean_squared_error(y_test, y_pred, squared=False)\n",
    "mae = mean_absolute_error(y_test, y_pred)\n",
    "print(\"R2_score:\", round(r2_score(y_test, y_pred), 2))\n",
    "print(\"MSE:\", mse)\n",
    "print(\"RMSE:\", rmse)\n",
    "print(\"MAE:\", mae)"
   ]
  },
  {
   "cell_type": "code",
   "execution_count": null,
   "id": "b46f23a9",
   "metadata": {},
   "outputs": [],
   "source": []
  }
 ],
 "metadata": {
  "kernelspec": {
   "display_name": "Python 3 (ipykernel)",
   "language": "python",
   "name": "python3"
  },
  "language_info": {
   "codemirror_mode": {
    "name": "ipython",
    "version": 3
   },
   "file_extension": ".py",
   "mimetype": "text/x-python",
   "name": "python",
   "nbconvert_exporter": "python",
   "pygments_lexer": "ipython3",
   "version": "3.11.5"
  }
 },
 "nbformat": 4,
 "nbformat_minor": 5
}
